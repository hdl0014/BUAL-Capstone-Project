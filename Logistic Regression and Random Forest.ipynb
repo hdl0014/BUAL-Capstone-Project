{
 "cells": [
  {
   "cell_type": "markdown",
   "id": "143d284f",
   "metadata": {},
   "source": [
    "### Formula 1 Modeling"
   ]
  },
  {
   "cell_type": "code",
   "execution_count": 9,
   "id": "4dfcee9d",
   "metadata": {},
   "outputs": [
    {
     "name": "stderr",
     "output_type": "stream",
     "text": [
      "C:\\Users\\Mixit\\AppData\\Local\\Temp\\ipykernel_30980\\3192657732.py:30: DtypeWarning: Columns (5) have mixed types. Specify dtype option on import or set low_memory=False.\n",
      "  merged_data = pd.read_csv('10-04-2023-merged.csv')\n"
     ]
    }
   ],
   "source": [
    "import pandas as pd\n",
    "from sklearn.model_selection import train_test_split\n",
    "from sklearn.linear_model import LogisticRegression\n",
    "from sklearn.metrics import classification_report, accuracy_score\n",
    "import matplotlib.pyplot as plt\n",
    "import numpy as np\n",
    "import fastf1 as ff1\n",
    "from fastf1 import plotting\n",
    "from sklearn.ensemble import RandomForestRegressor\n",
    "from sklearn.metrics import mean_squared_error\n",
    "from sklearn.impute import SimpleImputer\n",
    "\n",
    "\n",
    "\n",
    "circuits = pd.read_csv('circuits.csv')\n",
    "constructor_results = pd.read_csv('constructor_results.csv')\n",
    "constructor_standings = pd.read_csv('constructor_standings.csv')\n",
    "constructors = pd.read_csv('constructors.csv')\n",
    "driver_standings = pd.read_csv('driver_standings.csv')\n",
    "drivers = pd.read_csv('drivers.csv')\n",
    "lap_times = pd.read_csv('lap_times.csv')\n",
    "pit_stops = pd.read_csv('pit_stops.csv')\n",
    "qualifying = pd.read_csv('qualifying.csv')\n",
    "races = pd.read_csv('races.csv')\n",
    "results = pd.read_csv('results.csv')\n",
    "seasons = pd.read_csv('seasons.csv')\n",
    "sprint_results = pd.read_csv('sprint_results.csv')\n",
    "status = pd.read_csv('status.csv')\n",
    "weather_new = pd.read_csv('weather_f1.csv')\n",
    "merged_data = pd.read_csv('10-04-2023-merged.csv')\n"
   ]
  },
  {
   "cell_type": "code",
   "execution_count": 2,
   "id": "d49df13c",
   "metadata": {
    "scrolled": true
   },
   "outputs": [
    {
     "data": {
      "text/html": [
       "<div>\n",
       "<style scoped>\n",
       "    .dataframe tbody tr th:only-of-type {\n",
       "        vertical-align: middle;\n",
       "    }\n",
       "\n",
       "    .dataframe tbody tr th {\n",
       "        vertical-align: top;\n",
       "    }\n",
       "\n",
       "    .dataframe thead th {\n",
       "        text-align: right;\n",
       "    }\n",
       "</style>\n",
       "<table border=\"1\" class=\"dataframe\">\n",
       "  <thead>\n",
       "    <tr style=\"text-align: right;\">\n",
       "      <th></th>\n",
       "      <th>Unnamed: 0.1</th>\n",
       "      <th>resultId</th>\n",
       "      <th>raceId</th>\n",
       "      <th>driverId</th>\n",
       "      <th>constructorId</th>\n",
       "      <th>number_x</th>\n",
       "      <th>grid</th>\n",
       "      <th>position</th>\n",
       "      <th>positionText</th>\n",
       "      <th>positionOrder</th>\n",
       "      <th>...</th>\n",
       "      <th>grid_25</th>\n",
       "      <th>grid_26</th>\n",
       "      <th>grid_27</th>\n",
       "      <th>grid_28</th>\n",
       "      <th>grid_29</th>\n",
       "      <th>grid_30</th>\n",
       "      <th>grid_31</th>\n",
       "      <th>grid_32</th>\n",
       "      <th>grid_33</th>\n",
       "      <th>grid_34</th>\n",
       "    </tr>\n",
       "  </thead>\n",
       "  <tbody>\n",
       "    <tr>\n",
       "      <th>0</th>\n",
       "      <td>0</td>\n",
       "      <td>1</td>\n",
       "      <td>18</td>\n",
       "      <td>1</td>\n",
       "      <td>1</td>\n",
       "      <td>22</td>\n",
       "      <td>1</td>\n",
       "      <td>1</td>\n",
       "      <td>1</td>\n",
       "      <td>1</td>\n",
       "      <td>...</td>\n",
       "      <td>0</td>\n",
       "      <td>0</td>\n",
       "      <td>0</td>\n",
       "      <td>0</td>\n",
       "      <td>0</td>\n",
       "      <td>0</td>\n",
       "      <td>0</td>\n",
       "      <td>0</td>\n",
       "      <td>0</td>\n",
       "      <td>0</td>\n",
       "    </tr>\n",
       "    <tr>\n",
       "      <th>1</th>\n",
       "      <td>1</td>\n",
       "      <td>27</td>\n",
       "      <td>19</td>\n",
       "      <td>1</td>\n",
       "      <td>1</td>\n",
       "      <td>22</td>\n",
       "      <td>9</td>\n",
       "      <td>5</td>\n",
       "      <td>5</td>\n",
       "      <td>5</td>\n",
       "      <td>...</td>\n",
       "      <td>0</td>\n",
       "      <td>0</td>\n",
       "      <td>0</td>\n",
       "      <td>0</td>\n",
       "      <td>0</td>\n",
       "      <td>0</td>\n",
       "      <td>0</td>\n",
       "      <td>0</td>\n",
       "      <td>0</td>\n",
       "      <td>0</td>\n",
       "    </tr>\n",
       "    <tr>\n",
       "      <th>2</th>\n",
       "      <td>2</td>\n",
       "      <td>57</td>\n",
       "      <td>20</td>\n",
       "      <td>1</td>\n",
       "      <td>1</td>\n",
       "      <td>22</td>\n",
       "      <td>3</td>\n",
       "      <td>13</td>\n",
       "      <td>13</td>\n",
       "      <td>13</td>\n",
       "      <td>...</td>\n",
       "      <td>0</td>\n",
       "      <td>0</td>\n",
       "      <td>0</td>\n",
       "      <td>0</td>\n",
       "      <td>0</td>\n",
       "      <td>0</td>\n",
       "      <td>0</td>\n",
       "      <td>0</td>\n",
       "      <td>0</td>\n",
       "      <td>0</td>\n",
       "    </tr>\n",
       "    <tr>\n",
       "      <th>3</th>\n",
       "      <td>3</td>\n",
       "      <td>69</td>\n",
       "      <td>21</td>\n",
       "      <td>1</td>\n",
       "      <td>1</td>\n",
       "      <td>22</td>\n",
       "      <td>5</td>\n",
       "      <td>3</td>\n",
       "      <td>3</td>\n",
       "      <td>3</td>\n",
       "      <td>...</td>\n",
       "      <td>0</td>\n",
       "      <td>0</td>\n",
       "      <td>0</td>\n",
       "      <td>0</td>\n",
       "      <td>0</td>\n",
       "      <td>0</td>\n",
       "      <td>0</td>\n",
       "      <td>0</td>\n",
       "      <td>0</td>\n",
       "      <td>0</td>\n",
       "    </tr>\n",
       "    <tr>\n",
       "      <th>4</th>\n",
       "      <td>4</td>\n",
       "      <td>90</td>\n",
       "      <td>22</td>\n",
       "      <td>1</td>\n",
       "      <td>1</td>\n",
       "      <td>22</td>\n",
       "      <td>3</td>\n",
       "      <td>2</td>\n",
       "      <td>2</td>\n",
       "      <td>2</td>\n",
       "      <td>...</td>\n",
       "      <td>0</td>\n",
       "      <td>0</td>\n",
       "      <td>0</td>\n",
       "      <td>0</td>\n",
       "      <td>0</td>\n",
       "      <td>0</td>\n",
       "      <td>0</td>\n",
       "      <td>0</td>\n",
       "      <td>0</td>\n",
       "      <td>0</td>\n",
       "    </tr>\n",
       "  </tbody>\n",
       "</table>\n",
       "<p>5 rows × 93 columns</p>\n",
       "</div>"
      ],
      "text/plain": [
       "   Unnamed: 0.1  resultId  raceId  driverId  constructorId number_x  grid  \\\n",
       "0             0         1      18         1              1       22     1   \n",
       "1             1        27      19         1              1       22     9   \n",
       "2             2        57      20         1              1       22     3   \n",
       "3             3        69      21         1              1       22     5   \n",
       "4             4        90      22         1              1       22     3   \n",
       "\n",
       "  position positionText  positionOrder  ...  grid_25  grid_26 grid_27 grid_28  \\\n",
       "0        1            1              1  ...        0        0       0       0   \n",
       "1        5            5              5  ...        0        0       0       0   \n",
       "2       13           13             13  ...        0        0       0       0   \n",
       "3        3            3              3  ...        0        0       0       0   \n",
       "4        2            2              2  ...        0        0       0       0   \n",
       "\n",
       "  grid_29 grid_30 grid_31 grid_32  grid_33  grid_34  \n",
       "0       0       0       0       0        0        0  \n",
       "1       0       0       0       0        0        0  \n",
       "2       0       0       0       0        0        0  \n",
       "3       0       0       0       0        0        0  \n",
       "4       0       0       0       0        0        0  \n",
       "\n",
       "[5 rows x 93 columns]"
      ]
     },
     "execution_count": 2,
     "metadata": {},
     "output_type": "execute_result"
    }
   ],
   "source": [
    "merged_data.head(5)"
   ]
  },
  {
   "cell_type": "markdown",
   "id": "8704c3d5",
   "metadata": {},
   "source": [
    "# Logistic Regression: Predicting final race placement"
   ]
  },
  {
   "cell_type": "code",
   "execution_count": 3,
   "id": "b689d093",
   "metadata": {},
   "outputs": [
    {
     "name": "stdout",
     "output_type": "stream",
     "text": [
      "Accuracy: 0.9287925696594427\n",
      "              precision    recall  f1-score   support\n",
      "\n",
      "           0       0.95      0.97      0.96      4491\n",
      "           1       0.76      0.66      0.71       677\n",
      "\n",
      "    accuracy                           0.93      5168\n",
      "   macro avg       0.86      0.82      0.83      5168\n",
      "weighted avg       0.93      0.93      0.93      5168\n",
      "\n"
     ]
    },
    {
     "name": "stderr",
     "output_type": "stream",
     "text": [
      "C:\\Users\\Mixit\\anaconda3\\lib\\site-packages\\sklearn\\linear_model\\_logistic.py:444: ConvergenceWarning: lbfgs failed to converge (status=1):\n",
      "STOP: TOTAL NO. of ITERATIONS REACHED LIMIT.\n",
      "\n",
      "Increase the number of iterations (max_iter) or scale the data as shown in:\n",
      "    https://scikit-learn.org/stable/modules/preprocessing.html\n",
      "Please also refer to the documentation for alternative solver options:\n",
      "    https://scikit-learn.org/stable/modules/linear_model.html#logistic-regression\n",
      "  n_iter_i = _check_optimize_result(\n"
     ]
    }
   ],
   "source": [
    "weather_columns = [\n",
    "    'weather_keyword_weather_cloudy',\n",
    "    'weather_keyword_weather_cold',\n",
    "    'weather_keyword_weather_dry',\n",
    "    'weather_keyword_weather_warm',\n",
    "    'weather_keyword_weather_wet'\n",
    "]\n",
    "grid_dummy_columns = [col for col in merged_data.columns if 'grid_' in col]\n",
    "features_columns = ['raceId', 'driverId', 'constructorId', 'laps', 'circuitId', 'statusId'] + weather_columns + grid_dummy_columns\n",
    "\n",
    "# Extract features and target\n",
    "features = merged_data[features_columns]\n",
    "\n",
    "#podium feature creation\n",
    "merged_data['podium'] = merged_data['positionOrder'].apply(lambda x: 1 if x in [1, 2, 3] else 0)\n",
    "\n",
    "# Train-test split, model creation, and evaluation\n",
    "from sklearn.model_selection import train_test_split\n",
    "from sklearn.linear_model import LogisticRegression\n",
    "from sklearn.metrics import accuracy_score, classification_report\n",
    "\n",
    "X_train, X_test, y_train, y_test = train_test_split(features, merged_data['podium'], test_size=0.2)\n",
    "\n",
    "logreg = LogisticRegression(max_iter=1000)\n",
    "logreg.fit(X_train, y_train)\n",
    "\n",
    "y_pred = logreg.predict(X_test)\n",
    "print(\"Accuracy:\", accuracy_score(y_test, y_pred))\n",
    "print(classification_report(y_test, y_pred))\n"
   ]
  },
  {
   "cell_type": "code",
   "execution_count": 4,
   "id": "dc3f4097",
   "metadata": {},
   "outputs": [
    {
     "data": {
      "image/png": "[encoded data removed]",
      "text/plain": [
       "<Figure size 1440x576 with 1 Axes>"
      ]
     },
     "metadata": {
      "needs_background": "light"
     },
     "output_type": "display_data"
    }
   ],
   "source": [
    "coefficients = logreg.coef_[0]\n",
    "feature_importance = pd.Series(coefficients, index=features.columns).sort_values(ascending=False)\n",
    "\n",
    "# Plot the top features of importance\n",
    "plt.figure(figsize=(20, 8))\n",
    "top_features = feature_importance.head(40)  # Get the top 10 features\n",
    "top_features.plot(kind='bar')\n",
    "plt.title('Top Features of Importance')\n",
    "plt.ylabel('Coefficient Value')\n",
    "plt.xlabel('Feature Name')\n",
    "plt.show()"
   ]
  },
  {
   "cell_type": "code",
   "execution_count": null,
   "id": "0751e5c1",
   "metadata": {},
   "outputs": [],
   "source": [
    "all_laps_data.head(5)"
   ]
  },
  {
   "cell_type": "markdown",
   "id": "140653ee",
   "metadata": {},
   "source": [
    "# Random Forest: Predicting Lap Time"
   ]
  },
  {
   "cell_type": "code",
   "execution_count": 10,
   "id": "d2b4eb81",
   "metadata": {
    "scrolled": true
   },
   "outputs": [
    {
     "name": "stderr",
     "output_type": "stream",
     "text": [
      "core           INFO \tLoading data for Monaco Grand Prix - Race [v3.1.2]\n",
      "req            INFO \tUsing cached data for session_info\n",
      "req            INFO \tUsing cached data for driver_info\n",
      "req            INFO \tUsing cached data for session_status_data\n",
      "req            INFO \tUsing cached data for lap_count\n",
      "req            INFO \tUsing cached data for track_status_data\n",
      "req            INFO \tUsing cached data for _extended_timing_data\n",
      "req            INFO \tUsing cached data for timing_app_data\n",
      "core           INFO \tProcessing timing data...\n",
      "req            INFO \tUsing cached data for car_data\n",
      "req            INFO \tUsing cached data for position_data\n",
      "req            INFO \tUsing cached data for weather_data\n",
      "req            INFO \tUsing cached data for race_control_messages\n",
      "core           INFO \tFinished loading data for 20 drivers: ['1', '14', '31', '44', '63', '16', '10', '55', '4', '81', '77', '21', '24', '23', '22', '11', '27', '2', '20', '18']\n"
     ]
    },
    {
     "name": "stdout",
     "output_type": "stream",
     "text": [
      "Mean Squared Error: 24.183114950421142\n"
     ]
    }
   ],
   "source": [
    "from sklearn.model_selection import train_test_split\n",
    "from sklearn.ensemble import RandomForestRegressor\n",
    "from sklearn.metrics import mean_squared_error\n",
    "\n",
    "# Load Monaco race session\n",
    "race = ff1.get_session(2023, \"Monaco\", '5')\n",
    "race.load()  # This will load session specific data\n",
    "\n",
    "# Extracting the lap data from the session\n",
    "all_laps_data = race.laps\n",
    "\n",
    "# dropping null values, outliers,\n",
    "all_laps_data.dropna(subset=['LapTime'], inplace=True) \n",
    "\n",
    "# Convert time columns to seconds\n",
    "all_laps_data['LapTime'] = all_laps_data['LapTime'].dt.total_seconds()\n",
    "\n",
    "# Model to predict fastest lap\n",
    "X = all_laps_data[['DriverNumber', 'LapNumber']]\n",
    "y = all_laps_data['LapTime']\n",
    "\n",
    "# Splitting the data\n",
    "X_train, X_test, y_train, y_test = train_test_split(X, y, test_size=0.4)\n",
    "\n",
    "# Using SimpleImputer after splitting the data to handle missing values with mean\n",
    "imputer = SimpleImputer(strategy='mean')  \n",
    "X_train = imputer.fit_transform(X_train)\n",
    "X_test = imputer.transform(X_test)\n",
    "\n",
    "# Fitting the model\n",
    "model = RandomForestRegressor(n_estimators=100)\n",
    "model.fit(X_train, y_train)\n",
    "\n",
    "# Predicting\n",
    "y_pred = model.predict(X_test)\n",
    "mse = mean_squared_error(y_test, y_pred)\n",
    "print(f\"Mean Squared Error: {mse}\")\n"
   ]
  },
  {
   "cell_type": "code",
   "execution_count": 11,
   "id": "ede6e48a",
   "metadata": {},
   "outputs": [
    {
     "data": {
      "image/png": "[encoded data removed]",
      "text/plain": [
       "<Figure size 432x288 with 1 Axes>"
      ]
     },
     "metadata": {
      "needs_background": "light"
     },
     "output_type": "display_data"
    }
   ],
   "source": [
    "plt.scatter(y_test, y_pred)\n",
    "plt.plot([y_test.min(), y_test.max()], [y_test.min(), y_test.max()], 'k--', lw=2)\n",
    "plt.xlabel('Actual')\n",
    "plt.ylabel('Predicted')\n",
    "plt.title('Actual vs Predicted')\n",
    "plt.show()\n"
   ]
  },
  {
   "cell_type": "code",
   "execution_count": 12,
   "id": "8a73cc78",
   "metadata": {},
   "outputs": [],
   "source": [
    "all_laps_data['Sector1Time'] = all_laps_data['Sector1Time'].dt.total_seconds()\n",
    "all_laps_data['Sector2Time'] = all_laps_data['Sector2Time'].dt.total_seconds()\n",
    "all_laps_data['Sector3Time'] = all_laps_data['Sector3Time'].dt.total_seconds()\n",
    "from sklearn.impute import SimpleImputer\n",
    "# X = all_laps_data[['DriverNumber', 'LapNumber', 'Sector1Time', 'Sector2Time', 'Sector3Time']]\n",
    "# y = all_laps_data['LapTime']"
   ]
  },
  {
   "cell_type": "code",
   "execution_count": null,
   "id": "19813684",
   "metadata": {},
   "outputs": [],
   "source": []
  }
 ],
 "metadata": {
  "kernelspec": {
   "display_name": "Python 3",
   "language": "python",
   "name": "python3"
  },
  "language_info": {
   "codemirror_mode": {
    "name": "ipython",
    "version": 3
   },
   "file_extension": ".py",
   "mimetype": "text/x-python",
   "name": "python",
   "nbconvert_exporter": "python",
   "pygments_lexer": "ipython3",
   "version": "3.9.12"
  }
 },
 "nbformat": 4,
 "nbformat_minor": 5
}
